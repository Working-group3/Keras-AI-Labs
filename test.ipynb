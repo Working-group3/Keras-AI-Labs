{
  "nbformat": 4,
  "nbformat_minor": 0,
  "metadata": {
    "colab": {
      "provenance": []
    },
    "kernelspec": {
      "name": "python3",
      "display_name": "Python 3"
    },
    "language_info": {
      "name": "python"
    }
  },
  "cells": [
    {
      "cell_type": "code",
      "execution_count": null,
      "metadata": {
        "colab": {
          "base_uri": "https://localhost:8080/"
        },
        "id": "yfjvDaG7NhpU",
        "outputId": "c82760bf-e04d-4636-c40a-6fbfc736ac6b"
      },
      "outputs": [
        {
          "output_type": "stream",
          "name": "stdout",
          "text": [
            "hej axel\n"
          ]
        }
      ],
      "source": [
        "a = \"hej axel\"\n",
        "print(a)"
      ]
    },
    {
      "cell_type": "code",
      "source": [
        "import time\n",
        "for i in range(1,10):\n",
        "  time.sleep(1)\n",
        "  b = \"Det var en gång\"\n",
        "  print(b)\n",
        "print(\"och gången var lång\")"
      ],
      "metadata": {
        "colab": {
          "base_uri": "https://localhost:8080/"
        },
        "id": "kaxSTFYBOE2A",
        "outputId": "4a7a9902-acaa-49b2-f5da-3caf4cc2748d"
      },
      "execution_count": 8,
      "outputs": [
        {
          "output_type": "stream",
          "name": "stdout",
          "text": [
            "Det var en gång\n",
            "Det var en gång\n",
            "Det var en gång\n",
            "Det var en gång\n",
            "Det var en gång\n",
            "Det var en gång\n",
            "Det var en gång\n",
            "Det var en gång\n",
            "Det var en gång\n",
            "och gången var lång\n"
          ]
        }
      ]
    }
  ]
}